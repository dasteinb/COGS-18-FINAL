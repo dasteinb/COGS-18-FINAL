{
 "cells": [
  {
   "cell_type": "markdown",
   "metadata": {},
   "source": [
    "Make sure pygame is installed on your computer!"
   ]
  },
  {
   "cell_type": "markdown",
   "metadata": {},
   "source": [
    "This is an information interface using information from the Black Lives Matter website. \n",
    "\n",
    "The interface/game works by the user clicking the box for which they want more information, and the screen displays some paragraphs of information. As the user clicks a sepecific area of the screen, a function (with many other functoinns within it) expands the screen, creates a title, and pastes the information from the website.  \n",
    "\n",
    "Originally, I had a different project in mind, but after having a really hard time trying to do schoolwork while the riots, protests, and political turmoil was going on, I decided it would be a better idea to make the project based off of the BLM movement. \n",
    "\n",
    "Some notes:\n",
    "1. The red x button doesn't work for some reason, so the kernal must be restarted to exit out of the pygame interface. \n",
    "2. I tried seperating my code into modules but for some reason it wouldn't work. I'll include the attempt files in a folder. \n",
    "\n",
    "Extra credit:\n",
    "For this project, I used a a package that we haven't used in class: pygame. It ended up being a lot more challennging that I thought it would be to learn how to use a new package. In class, we didn't talk about interactive interfaces and presenting information. A struggle I had in particular was getting the user's clicks to register each time, and the amount of time the information side bar was displayed. I worked around this by using a delay in the code. \n",
    "\n",
    "I got the basic structure of the code from https://realpython.com/pygame-a-primer/"
   ]
  }
 ],
 "metadata": {
  "kernelspec": {
   "display_name": "Python 3",
   "language": "python",
   "name": "python3"
  },
  "language_info": {
   "codemirror_mode": {
    "name": "ipython",
    "version": 3
   },
   "file_extension": ".py",
   "mimetype": "text/x-python",
   "name": "python",
   "nbconvert_exporter": "python",
   "pygments_lexer": "ipython3",
   "version": "3.6.7"
  }
 },
 "nbformat": 4,
 "nbformat_minor": 2
}
